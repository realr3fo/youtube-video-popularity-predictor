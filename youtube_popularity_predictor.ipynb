{
 "cells": [
  {
   "attachments": {},
   "cell_type": "markdown",
   "id": "62c408cc",
   "metadata": {},
   "source": [
    "# Code and documentation for YouTube popularity prediction"
   ]
  },
  {
   "attachments": {},
   "cell_type": "markdown",
   "id": "liquid-ground",
   "metadata": {
    "papermill": {
     "duration": 0.059387,
     "end_time": "2021-05-28T08:18:38.779986",
     "exception": false,
     "start_time": "2021-05-28T08:18:38.720599",
     "status": "completed"
    },
    "tags": []
   },
   "source": [
    "## Importing some packages"
   ]
  },
  {
   "cell_type": "code",
   "execution_count": 152,
   "id": "general-female",
   "metadata": {
    "execution": {
     "iopub.execute_input": "2021-05-28T08:18:38.900306Z",
     "iopub.status.busy": "2021-05-28T08:18:38.899088Z",
     "iopub.status.idle": "2021-05-28T08:18:38.903050Z",
     "shell.execute_reply": "2021-05-28T08:18:38.903587Z",
     "shell.execute_reply.started": "2021-05-28T08:16:51.739168Z"
    },
    "papermill": {
     "duration": 0.065718,
     "end_time": "2021-05-28T08:18:38.903999",
     "exception": false,
     "start_time": "2021-05-28T08:18:38.838281",
     "status": "completed"
    },
    "tags": []
   },
   "outputs": [],
   "source": [
    "import numpy as np\n",
    "import pandas as pd\n",
    "import matplotlib.pyplot as plt\n",
    "from sklearn.preprocessing import LabelEncoder\n",
    "from sklearn.metrics import accuracy_score\n",
    "from sklearn.model_selection import train_test_split\n",
    "from sklearn.metrics import r2_score,mean_absolute_error\n",
    "from sklearn.linear_model import LinearRegression\n",
    "from sklearn.cluster import KMeans\n",
    "from sklearn.preprocessing import MinMaxScaler\n",
    "from sklearn.ensemble import RandomForestRegressor\n",
    "from sklearn.ensemble import RandomForestClassifier\n",
    "import warnings\n",
    "from sklearn.preprocessing import StandardScaler\n",
    "from sklearn.linear_model import LogisticRegression"
   ]
  },
  {
   "attachments": {},
   "cell_type": "markdown",
   "id": "thrown-blues",
   "metadata": {
    "papermill": {
     "duration": 0.057571,
     "end_time": "2021-05-28T08:18:39.023942",
     "exception": false,
     "start_time": "2021-05-28T08:18:38.966371",
     "status": "completed"
    },
    "tags": []
   },
   "source": [
    "## Reading the dataset"
   ]
  },
  {
   "cell_type": "code",
   "execution_count": 153,
   "id": "guided-envelope",
   "metadata": {
    "execution": {
     "iopub.execute_input": "2021-05-28T08:18:39.145057Z",
     "iopub.status.busy": "2021-05-28T08:18:39.144305Z",
     "iopub.status.idle": "2021-05-28T08:18:41.052675Z",
     "shell.execute_reply": "2021-05-28T08:18:41.052140Z",
     "shell.execute_reply.started": "2021-05-28T08:16:51.749551Z"
    },
    "papermill": {
     "duration": 1.971113,
     "end_time": "2021-05-28T08:18:41.052817",
     "exception": false,
     "start_time": "2021-05-28T08:18:39.081704",
     "status": "completed"
    },
    "tags": []
   },
   "outputs": [
    {
     "data": {
      "text/html": [
       "<div>\n",
       "<style scoped>\n",
       "    .dataframe tbody tr th:only-of-type {\n",
       "        vertical-align: middle;\n",
       "    }\n",
       "\n",
       "    .dataframe tbody tr th {\n",
       "        vertical-align: top;\n",
       "    }\n",
       "\n",
       "    .dataframe thead th {\n",
       "        text-align: right;\n",
       "    }\n",
       "</style>\n",
       "<table border=\"1\" class=\"dataframe\">\n",
       "  <thead>\n",
       "    <tr style=\"text-align: right;\">\n",
       "      <th></th>\n",
       "      <th>video_id</th>\n",
       "      <th>title</th>\n",
       "      <th>publishedAt</th>\n",
       "      <th>channelId</th>\n",
       "      <th>channel_title</th>\n",
       "      <th>category_id</th>\n",
       "      <th>trendingAt</th>\n",
       "      <th>tags</th>\n",
       "      <th>views</th>\n",
       "      <th>likes</th>\n",
       "      <th>dislikes</th>\n",
       "      <th>comment_count</th>\n",
       "      <th>thumbnail_link</th>\n",
       "      <th>comments_disabled</th>\n",
       "      <th>ratings_disabled</th>\n",
       "      <th>description</th>\n",
       "    </tr>\n",
       "  </thead>\n",
       "  <tbody>\n",
       "    <tr>\n",
       "      <th>0</th>\n",
       "      <td>3C66w5Z0ixs</td>\n",
       "      <td>I ASKED HER TO BE MY GIRLFRIEND...</td>\n",
       "      <td>2020-08-11T19:20:14Z</td>\n",
       "      <td>UCvtRTOMP2TqYqu51xNrqAzg</td>\n",
       "      <td>Brawadis</td>\n",
       "      <td>22</td>\n",
       "      <td>2020-08-12T00:00:00Z</td>\n",
       "      <td>brawadis|prank|basketball|skits|ghost|funny vi...</td>\n",
       "      <td>1514614</td>\n",
       "      <td>156908</td>\n",
       "      <td>5855</td>\n",
       "      <td>35313</td>\n",
       "      <td>https://i.ytimg.com/vi/3C66w5Z0ixs/default.jpg</td>\n",
       "      <td>False</td>\n",
       "      <td>False</td>\n",
       "      <td>SUBSCRIBE to BRAWADIS ▶ http://bit.ly/Subscrib...</td>\n",
       "    </tr>\n",
       "    <tr>\n",
       "      <th>1</th>\n",
       "      <td>M9Pmf9AB4Mo</td>\n",
       "      <td>Apex Legends | Stories from the Outlands – “Th...</td>\n",
       "      <td>2020-08-11T17:00:10Z</td>\n",
       "      <td>UC0ZV6M2THA81QT9hrVWJG3A</td>\n",
       "      <td>Apex Legends</td>\n",
       "      <td>20</td>\n",
       "      <td>2020-08-12T00:00:00Z</td>\n",
       "      <td>Apex Legends|Apex Legends characters|new Apex ...</td>\n",
       "      <td>2381688</td>\n",
       "      <td>146739</td>\n",
       "      <td>2794</td>\n",
       "      <td>16549</td>\n",
       "      <td>https://i.ytimg.com/vi/M9Pmf9AB4Mo/default.jpg</td>\n",
       "      <td>False</td>\n",
       "      <td>False</td>\n",
       "      <td>While running her own modding shop, Ramya Pare...</td>\n",
       "    </tr>\n",
       "    <tr>\n",
       "      <th>2</th>\n",
       "      <td>J78aPJ3VyNs</td>\n",
       "      <td>I left youtube for a month and THIS is what ha...</td>\n",
       "      <td>2020-08-11T16:34:06Z</td>\n",
       "      <td>UCYzPXprvl5Y-Sf0g4vX-m6g</td>\n",
       "      <td>jacksepticeye</td>\n",
       "      <td>24</td>\n",
       "      <td>2020-08-12T00:00:00Z</td>\n",
       "      <td>jacksepticeye|funny|funny meme|memes|jacksepti...</td>\n",
       "      <td>2038853</td>\n",
       "      <td>353787</td>\n",
       "      <td>2628</td>\n",
       "      <td>40221</td>\n",
       "      <td>https://i.ytimg.com/vi/J78aPJ3VyNs/default.jpg</td>\n",
       "      <td>False</td>\n",
       "      <td>False</td>\n",
       "      <td>I left youtube for a month and this is what ha...</td>\n",
       "    </tr>\n",
       "    <tr>\n",
       "      <th>3</th>\n",
       "      <td>kXLn3HkpjaA</td>\n",
       "      <td>XXL 2020 Freshman Class Revealed - Official An...</td>\n",
       "      <td>2020-08-11T16:38:55Z</td>\n",
       "      <td>UCbg_UMjlHJg_19SZckaKajg</td>\n",
       "      <td>XXL</td>\n",
       "      <td>10</td>\n",
       "      <td>2020-08-12T00:00:00Z</td>\n",
       "      <td>xxl freshman|xxl freshmen|2020 xxl freshman|20...</td>\n",
       "      <td>496771</td>\n",
       "      <td>23251</td>\n",
       "      <td>1856</td>\n",
       "      <td>7647</td>\n",
       "      <td>https://i.ytimg.com/vi/kXLn3HkpjaA/default.jpg</td>\n",
       "      <td>False</td>\n",
       "      <td>False</td>\n",
       "      <td>Subscribe to XXL → http://bit.ly/subscribe-xxl...</td>\n",
       "    </tr>\n",
       "    <tr>\n",
       "      <th>4</th>\n",
       "      <td>VIUo6yapDbc</td>\n",
       "      <td>Ultimate DIY Home Movie Theater for The LaBran...</td>\n",
       "      <td>2020-08-11T15:10:05Z</td>\n",
       "      <td>UCDVPcEbVLQgLZX0Rt6jo34A</td>\n",
       "      <td>Mr. Kate</td>\n",
       "      <td>26</td>\n",
       "      <td>2020-08-12T00:00:00Z</td>\n",
       "      <td>The LaBrant Family|DIY|Interior Design|Makeove...</td>\n",
       "      <td>1123889</td>\n",
       "      <td>45802</td>\n",
       "      <td>964</td>\n",
       "      <td>2196</td>\n",
       "      <td>https://i.ytimg.com/vi/VIUo6yapDbc/default.jpg</td>\n",
       "      <td>False</td>\n",
       "      <td>False</td>\n",
       "      <td>Transforming The LaBrant Family's empty white ...</td>\n",
       "    </tr>\n",
       "  </tbody>\n",
       "</table>\n",
       "</div>"
      ],
      "text/plain": [
       "      video_id                                              title  \\\n",
       "0  3C66w5Z0ixs                 I ASKED HER TO BE MY GIRLFRIEND...   \n",
       "1  M9Pmf9AB4Mo  Apex Legends | Stories from the Outlands – “Th...   \n",
       "2  J78aPJ3VyNs  I left youtube for a month and THIS is what ha...   \n",
       "3  kXLn3HkpjaA  XXL 2020 Freshman Class Revealed - Official An...   \n",
       "4  VIUo6yapDbc  Ultimate DIY Home Movie Theater for The LaBran...   \n",
       "\n",
       "            publishedAt                 channelId  channel_title  category_id  \\\n",
       "0  2020-08-11T19:20:14Z  UCvtRTOMP2TqYqu51xNrqAzg       Brawadis           22   \n",
       "1  2020-08-11T17:00:10Z  UC0ZV6M2THA81QT9hrVWJG3A   Apex Legends           20   \n",
       "2  2020-08-11T16:34:06Z  UCYzPXprvl5Y-Sf0g4vX-m6g  jacksepticeye           24   \n",
       "3  2020-08-11T16:38:55Z  UCbg_UMjlHJg_19SZckaKajg            XXL           10   \n",
       "4  2020-08-11T15:10:05Z  UCDVPcEbVLQgLZX0Rt6jo34A       Mr. Kate           26   \n",
       "\n",
       "             trendingAt                                               tags  \\\n",
       "0  2020-08-12T00:00:00Z  brawadis|prank|basketball|skits|ghost|funny vi...   \n",
       "1  2020-08-12T00:00:00Z  Apex Legends|Apex Legends characters|new Apex ...   \n",
       "2  2020-08-12T00:00:00Z  jacksepticeye|funny|funny meme|memes|jacksepti...   \n",
       "3  2020-08-12T00:00:00Z  xxl freshman|xxl freshmen|2020 xxl freshman|20...   \n",
       "4  2020-08-12T00:00:00Z  The LaBrant Family|DIY|Interior Design|Makeove...   \n",
       "\n",
       "     views   likes  dislikes  comment_count  \\\n",
       "0  1514614  156908      5855          35313   \n",
       "1  2381688  146739      2794          16549   \n",
       "2  2038853  353787      2628          40221   \n",
       "3   496771   23251      1856           7647   \n",
       "4  1123889   45802       964           2196   \n",
       "\n",
       "                                   thumbnail_link  comments_disabled  \\\n",
       "0  https://i.ytimg.com/vi/3C66w5Z0ixs/default.jpg              False   \n",
       "1  https://i.ytimg.com/vi/M9Pmf9AB4Mo/default.jpg              False   \n",
       "2  https://i.ytimg.com/vi/J78aPJ3VyNs/default.jpg              False   \n",
       "3  https://i.ytimg.com/vi/kXLn3HkpjaA/default.jpg              False   \n",
       "4  https://i.ytimg.com/vi/VIUo6yapDbc/default.jpg              False   \n",
       "\n",
       "   ratings_disabled                                        description  \n",
       "0             False  SUBSCRIBE to BRAWADIS ▶ http://bit.ly/Subscrib...  \n",
       "1             False  While running her own modding shop, Ramya Pare...  \n",
       "2             False  I left youtube for a month and this is what ha...  \n",
       "3             False  Subscribe to XXL → http://bit.ly/subscribe-xxl...  \n",
       "4             False  Transforming The LaBrant Family's empty white ...  "
      ]
     },
     "execution_count": 153,
     "metadata": {},
     "output_type": "execute_result"
    }
   ],
   "source": [
    "df=pd.read_csv(\"US_youtube_trending_data.csv\")\n",
    "df.head()"
   ]
  },
  {
   "attachments": {},
   "cell_type": "markdown",
   "id": "curious-thailand",
   "metadata": {
    "papermill": {
     "duration": 0.059062,
     "end_time": "2021-05-28T08:18:41.427335",
     "exception": false,
     "start_time": "2021-05-28T08:18:41.368273",
     "status": "completed"
    },
    "tags": []
   },
   "source": [
    "## Data cleaning"
   ]
  },
  {
   "cell_type": "code",
   "execution_count": 154,
   "id": "marked-briefs",
   "metadata": {
    "execution": {
     "iopub.execute_input": "2021-05-28T08:18:41.556365Z",
     "iopub.status.busy": "2021-05-28T08:18:41.550953Z",
     "iopub.status.idle": "2021-05-28T08:18:41.679054Z",
     "shell.execute_reply": "2021-05-28T08:18:41.678380Z",
     "shell.execute_reply.started": "2021-05-28T08:16:53.583605Z"
    },
    "papermill": {
     "duration": 0.193393,
     "end_time": "2021-05-28T08:18:41.679193",
     "exception": false,
     "start_time": "2021-05-28T08:18:41.485800",
     "status": "completed"
    },
    "scrolled": true,
    "tags": []
   },
   "outputs": [],
   "source": [
    "df = df.drop_duplicates()\n",
    "df['trending_date']=pd.to_datetime(pd.Series(df['trendingAt'].apply(lambda x:x[:19])))\n",
    "df['publish_time']=pd.to_datetime(pd.Series(df['publishedAt'].apply(lambda x:x[:19])))\n",
    "df['description']=df['description'].fillna(\"\")\n",
    "df['trending days_difference']=df.apply(lambda row: (row.trending_date-row.publish_time).days, axis = 1) \n",
    "df['trending days_difference'].replace({-1:0},inplace=True)\n",
    "pd.options.display.float_format = \"{:.2f}\".format\n",
    "df.describe()\n",
    "def contains_capitalized_word(s):\n",
    "    for w in s.split():\n",
    "        if w.isupper():\n",
    "            return True\n",
    "    return False\n",
    "df[\"contains_capitalized\"] = df[\"title\"].apply(contains_capitalized_word)\n",
    "value_counts = df[\"contains_capitalized\"].value_counts().to_dict()\n",
    "df[\"contains_capitalized\"].value_counts(normalize=True)*100\n",
    "df[\"title_length\"]= df[\"title\"].apply(lambda x: len(x))\n",
    "df = df.loc[df['views'] > 0]"
   ]
  },
  {
   "attachments": {},
   "cell_type": "markdown",
   "id": "0dd3f304",
   "metadata": {},
   "source": [
    "## Adding popularity category for a video to the dataset"
   ]
  },
  {
   "cell_type": "code",
   "execution_count": 155,
   "id": "c22952df",
   "metadata": {},
   "outputs": [],
   "source": [
    "df['score'] = ((df.comment_count + df.likes)*100/(df.views))"
   ]
  },
  {
   "attachments": {},
   "cell_type": "markdown",
   "id": "1fdb89be",
   "metadata": {},
   "source": [
    "### Cluster the video popularity category with optimum number of cluster"
   ]
  },
  {
   "cell_type": "code",
   "execution_count": 156,
   "id": "9ac2e346",
   "metadata": {},
   "outputs": [
    {
     "data": {
      "image/png": "[encoded data removed]",
      "text/plain": [
       "<Figure size 640x480 with 1 Axes>"
      ]
     },
     "metadata": {},
     "output_type": "display_data"
    }
   ],
   "source": [
    "data = df['score'].values\n",
    "data = data.reshape(-1,1)\n",
    "mms = MinMaxScaler()\n",
    "mms.fit(data)\n",
    "data_transformed = mms.transform(data)\n",
    "warnings.filterwarnings(\"ignore\")\n",
    "Sum_of_squared_distances = []\n",
    "K = range(1,15)\n",
    "for k in K:\n",
    "    km = KMeans(n_clusters=k)\n",
    "    km = km.fit(data_transformed)\n",
    "    Sum_of_squared_distances.append(km.inertia_)\n",
    "plt.plot(K, Sum_of_squared_distances, 'bx-')\n",
    "plt.xlabel('k')\n",
    "plt.ylabel('Sum_of_squared_distances')\n",
    "plt.title('Elbow Method For Optimal k')\n",
    "plt.show()"
   ]
  },
  {
   "cell_type": "code",
   "execution_count": 157,
   "id": "c69ecd0b",
   "metadata": {},
   "outputs": [],
   "source": [
    "data = df['score'].values.reshape(-1,1)\n",
    "scaler = StandardScaler()\n",
    "scaled_features = scaler.fit_transform(data)\n",
    "kmeans = KMeans(\n",
    "    init=\"random\",\n",
    "    n_clusters=4,\n",
    "    n_init=10,\n",
    "    max_iter=300,\n",
    "    random_state=42\n",
    ")\n",
    "kmeans.fit(scaled_features)\n",
    "df['label'] = kmeans.labels_"
   ]
  },
  {
   "attachments": {},
   "cell_type": "markdown",
   "id": "manufactured-wichita",
   "metadata": {
    "papermill": {
     "duration": 0.070303,
     "end_time": "2021-05-28T08:18:52.485418",
     "exception": false,
     "start_time": "2021-05-28T08:18:52.415115",
     "status": "completed"
    },
    "tags": []
   },
   "source": [
    "## Reading the json file for category name"
   ]
  },
  {
   "cell_type": "code",
   "execution_count": 158,
   "id": "loved-vulnerability",
   "metadata": {
    "execution": {
     "iopub.execute_input": "2021-05-28T08:18:52.776811Z",
     "iopub.status.busy": "2021-05-28T08:18:52.775747Z",
     "iopub.status.idle": "2021-05-28T08:18:52.822786Z",
     "shell.execute_reply": "2021-05-28T08:18:52.822181Z",
     "shell.execute_reply.started": "2021-05-28T08:17:00.740220Z"
    },
    "papermill": {
     "duration": 0.123911,
     "end_time": "2021-05-28T08:18:52.822983",
     "exception": false,
     "start_time": "2021-05-28T08:18:52.699072",
     "status": "completed"
    },
    "tags": []
   },
   "outputs": [],
   "source": [
    "df['category_name'] = np.nan\n",
    "df.loc[(df[\"category_id\"] == 1),\"category_name\"] = 'Film and Animation'\n",
    "df.loc[(df[\"category_id\"] == 2),\"category_name\"] = 'Cars and Vehicles'\n",
    "df.loc[(df[\"category_id\"] == 10),\"category_name\"] = 'Music'\n",
    "df.loc[(df[\"category_id\"] == 15),\"category_name\"] = 'Pets and Animals'\n",
    "df.loc[(df[\"category_id\"] == 17),\"category_name\"] = 'Sport'\n",
    "df.loc[(df[\"category_id\"] == 19),\"category_name\"] = 'Travel and Events'\n",
    "df.loc[(df[\"category_id\"] == 20),\"category_name\"] = 'Gaming'\n",
    "df.loc[(df[\"category_id\"] == 22),\"category_name\"] = 'People and Blogs'\n",
    "df.loc[(df[\"category_id\"] == 23),\"category_name\"] = 'Comedy'\n",
    "df.loc[(df[\"category_id\"] == 24),\"category_name\"] = 'Entertainment'\n",
    "df.loc[(df[\"category_id\"] == 25),\"category_name\"] = 'News and Politics'\n",
    "df.loc[(df[\"category_id\"] == 26),\"category_name\"] = 'How to and Style'\n",
    "df.loc[(df[\"category_id\"] == 27),\"category_name\"] = 'Education'\n",
    "df.loc[(df[\"category_id\"] == 28),\"category_name\"] = 'Science and Technology'\n",
    "df.loc[(df[\"category_id\"] == 29),\"category_name\"] = 'Non Profits and Activism'\n",
    "df.loc[(df[\"category_id\"] == 43),\"category_name\"] = 'Shows'"
   ]
  },
  {
   "cell_type": "code",
   "execution_count": 159,
   "id": "uniform-neighborhood",
   "metadata": {
    "execution": {
     "iopub.execute_input": "2021-05-28T08:19:04.823551Z",
     "iopub.status.busy": "2021-05-28T08:19:04.822885Z",
     "iopub.status.idle": "2021-05-28T08:19:04.838556Z",
     "shell.execute_reply": "2021-05-28T08:19:04.837738Z",
     "shell.execute_reply.started": "2021-05-28T08:17:07.072782Z"
    },
    "papermill": {
     "duration": 0.11298,
     "end_time": "2021-05-28T08:19:04.838716",
     "exception": false,
     "start_time": "2021-05-28T08:19:04.725736",
     "status": "completed"
    },
    "tags": []
   },
   "outputs": [],
   "source": [
    "c=df.channel_title.value_counts()\n",
    "c=c[c>50]\n",
    "titles=list(c.index)"
   ]
  },
  {
   "cell_type": "code",
   "execution_count": 160,
   "id": "cognitive-aberdeen",
   "metadata": {
    "execution": {
     "iopub.execute_input": "2021-05-28T08:19:05.021932Z",
     "iopub.status.busy": "2021-05-28T08:19:05.021020Z",
     "iopub.status.idle": "2021-05-28T08:19:05.026699Z",
     "shell.execute_reply": "2021-05-28T08:19:05.026034Z",
     "shell.execute_reply.started": "2021-05-28T08:17:07.099262Z"
    },
    "papermill": {
     "duration": 0.101779,
     "end_time": "2021-05-28T08:19:05.026860",
     "exception": false,
     "start_time": "2021-05-28T08:19:04.925081",
     "status": "completed"
    },
    "tags": []
   },
   "outputs": [],
   "source": [
    "data=df[df['channel_title'].isin(titles)]\n",
    "data=data.reset_index()\n",
    "data.drop(['score','dislikes','index','video_id','trending_date','title','category_id','tags','thumbnail_link','description','publish_time', 'publishedAt', 'trendingAt', 'channelId'],axis=1,inplace=True)"
   ]
  },
  {
   "cell_type": "code",
   "execution_count": 161,
   "id": "packed-pressure",
   "metadata": {
    "execution": {
     "iopub.execute_input": "2021-05-28T08:19:05.203553Z",
     "iopub.status.busy": "2021-05-28T08:19:05.202918Z",
     "iopub.status.idle": "2021-05-28T08:19:05.249353Z",
     "shell.execute_reply": "2021-05-28T08:19:05.248740Z",
     "shell.execute_reply.started": "2021-05-28T08:17:07.116851Z"
    },
    "papermill": {
     "duration": 0.135742,
     "end_time": "2021-05-28T08:19:05.249508",
     "exception": false,
     "start_time": "2021-05-28T08:19:05.113766",
     "status": "completed"
    },
    "tags": []
   },
   "outputs": [
    {
     "data": {
      "text/html": [
       "<div>\n",
       "<style scoped>\n",
       "    .dataframe tbody tr th:only-of-type {\n",
       "        vertical-align: middle;\n",
       "    }\n",
       "\n",
       "    .dataframe tbody tr th {\n",
       "        vertical-align: top;\n",
       "    }\n",
       "\n",
       "    .dataframe thead th {\n",
       "        text-align: right;\n",
       "    }\n",
       "</style>\n",
       "<table border=\"1\" class=\"dataframe\">\n",
       "  <thead>\n",
       "    <tr style=\"text-align: right;\">\n",
       "      <th></th>\n",
       "      <th>channel_title</th>\n",
       "      <th>views</th>\n",
       "      <th>likes</th>\n",
       "      <th>comment_count</th>\n",
       "      <th>comments_disabled</th>\n",
       "      <th>ratings_disabled</th>\n",
       "      <th>trending days_difference</th>\n",
       "      <th>contains_capitalized</th>\n",
       "      <th>title_length</th>\n",
       "      <th>label</th>\n",
       "      <th>category_name</th>\n",
       "    </tr>\n",
       "  </thead>\n",
       "  <tbody>\n",
       "    <tr>\n",
       "      <th>0</th>\n",
       "      <td>44</td>\n",
       "      <td>2381688</td>\n",
       "      <td>146739</td>\n",
       "      <td>16549</td>\n",
       "      <td>0</td>\n",
       "      <td>0</td>\n",
       "      <td>0</td>\n",
       "      <td>0</td>\n",
       "      <td>60</td>\n",
       "      <td>2</td>\n",
       "      <td>5</td>\n",
       "    </tr>\n",
       "    <tr>\n",
       "      <th>1</th>\n",
       "      <td>821</td>\n",
       "      <td>2038853</td>\n",
       "      <td>353787</td>\n",
       "      <td>40221</td>\n",
       "      <td>0</td>\n",
       "      <td>0</td>\n",
       "      <td>0</td>\n",
       "      <td>1</td>\n",
       "      <td>53</td>\n",
       "      <td>0</td>\n",
       "      <td>3</td>\n",
       "    </tr>\n",
       "    <tr>\n",
       "      <th>2</th>\n",
       "      <td>782</td>\n",
       "      <td>496771</td>\n",
       "      <td>23251</td>\n",
       "      <td>7647</td>\n",
       "      <td>0</td>\n",
       "      <td>0</td>\n",
       "      <td>0</td>\n",
       "      <td>1</td>\n",
       "      <td>56</td>\n",
       "      <td>2</td>\n",
       "      <td>7</td>\n",
       "    </tr>\n",
       "    <tr>\n",
       "      <th>3</th>\n",
       "      <td>476</td>\n",
       "      <td>1123889</td>\n",
       "      <td>45802</td>\n",
       "      <td>2196</td>\n",
       "      <td>0</td>\n",
       "      <td>0</td>\n",
       "      <td>0</td>\n",
       "      <td>1</td>\n",
       "      <td>55</td>\n",
       "      <td>2</td>\n",
       "      <td>6</td>\n",
       "    </tr>\n",
       "    <tr>\n",
       "      <th>4</th>\n",
       "      <td>403</td>\n",
       "      <td>470446</td>\n",
       "      <td>47990</td>\n",
       "      <td>4558</td>\n",
       "      <td>0</td>\n",
       "      <td>0</td>\n",
       "      <td>0</td>\n",
       "      <td>1</td>\n",
       "      <td>24</td>\n",
       "      <td>1</td>\n",
       "      <td>6</td>\n",
       "    </tr>\n",
       "  </tbody>\n",
       "</table>\n",
       "</div>"
      ],
      "text/plain": [
       "   channel_title    views   likes  comment_count  comments_disabled  \\\n",
       "0             44  2381688  146739          16549                  0   \n",
       "1            821  2038853  353787          40221                  0   \n",
       "2            782   496771   23251           7647                  0   \n",
       "3            476  1123889   45802           2196                  0   \n",
       "4            403   470446   47990           4558                  0   \n",
       "\n",
       "   ratings_disabled  trending days_difference  contains_capitalized  \\\n",
       "0                 0                         0                     0   \n",
       "1                 0                         0                     1   \n",
       "2                 0                         0                     1   \n",
       "3                 0                         0                     1   \n",
       "4                 0                         0                     1   \n",
       "\n",
       "   title_length  label  category_name  \n",
       "0            60      2              5  \n",
       "1            53      0              3  \n",
       "2            56      2              7  \n",
       "3            55      2              6  \n",
       "4            24      1              6  "
      ]
     },
     "execution_count": 161,
     "metadata": {},
     "output_type": "execute_result"
    }
   ],
   "source": [
    "le = LabelEncoder()\n",
    "for i in data.columns:\n",
    "    if i in ['channel_title','comments_disabled','ratings_disabled','video_error_or_removed','category_name',\n",
    "           'contains_capitalized']:\n",
    "        data[i] = le.fit_transform(data[i])\n",
    "data.head()"
   ]
  },
  {
   "attachments": {},
   "cell_type": "markdown",
   "id": "2accf9dd",
   "metadata": {},
   "source": [
    "## Regression for predicting view count"
   ]
  },
  {
   "attachments": {},
   "cell_type": "markdown",
   "id": "e67b559e",
   "metadata": {},
   "source": [
    "### Train test split"
   ]
  },
  {
   "cell_type": "code",
   "execution_count": 162,
   "id": "a27fabbe",
   "metadata": {},
   "outputs": [
    {
     "name": "stdout",
     "output_type": "stream",
     "text": [
      "X_train:  (79388, 9)\n",
      "X_test:  (19848, 9)\n",
      "y_train:  (79388,)\n",
      "y_test:  (19848,)\n"
     ]
    }
   ],
   "source": [
    "X=data.drop('views',axis=1)\n",
    "X=X.drop('label',axis=1)\n",
    "y=data.views\n",
    "X_train,X_test,y_train,y_test = train_test_split(X,y,test_size = 0.2, random_state = 0)\n",
    "print(\"X_train: \",X_train.shape)\n",
    "print(\"X_test: \",X_test.shape)\n",
    "print(\"y_train: \",y_train.shape)\n",
    "print(\"y_test: \",y_test.shape)"
   ]
  },
  {
   "attachments": {},
   "cell_type": "markdown",
   "id": "376ce6f1",
   "metadata": {},
   "source": [
    "### Prediction using Linear Regressor and Random Forest Regressor"
   ]
  },
  {
   "cell_type": "code",
   "execution_count": 163,
   "id": "superb-choir",
   "metadata": {
    "execution": {
     "iopub.execute_input": "2021-05-28T08:19:07.462383Z",
     "iopub.status.busy": "2021-05-28T08:19:07.461298Z",
     "iopub.status.idle": "2021-05-28T08:19:07.578966Z",
     "shell.execute_reply": "2021-05-28T08:19:07.579504Z",
     "shell.execute_reply.started": "2021-05-28T08:17:08.416478Z"
    },
    "papermill": {
     "duration": 0.213137,
     "end_time": "2021-05-28T08:19:07.579730",
     "exception": false,
     "start_time": "2021-05-28T08:19:07.366593",
     "status": "completed"
    },
    "tags": []
   },
   "outputs": [
    {
     "name": "stdout",
     "output_type": "stream",
     "text": [
      "Mean Absolute Error on Training Set:  1573658.077830133\n",
      "Mean Absolute Error on Testing Set:  1531725.2272463753\n",
      "R-Squared Score on Training Set:  0.7808088228077981\n",
      "R-Squared Score on Testing Set:  0.8160746093977201\n"
     ]
    }
   ],
   "source": [
    "model=LinearRegression()\n",
    "model.fit(X_train,y_train)\n",
    "y_pred=model.predict(X_test)\n",
    "print(\"Mean Absolute Error on Training Set: \",mean_absolute_error(y_train,model.predict(X_train)))\n",
    "print(\"Mean Absolute Error on Testing Set: \",mean_absolute_error(y_test,y_pred))\n",
    "print(\"R-Squared Score on Training Set: \",r2_score(y_train,model.predict(X_train)))\n",
    "print(\"R-Squared Score on Testing Set: \",r2_score(y_test,y_pred))"
   ]
  },
  {
   "cell_type": "code",
   "execution_count": 164,
   "id": "277608b5",
   "metadata": {},
   "outputs": [
    {
     "name": "stdout",
     "output_type": "stream",
     "text": [
      "Mean Absolute Error on Training Set:  232936.1901079785\n",
      "Mean Absolute Error on Testing Set:  605523.05856851\n",
      "R-Squared Score on Training Set:  0.9939906715546788\n",
      "R-Squared Score on Testing Set:  0.9649150593360315\n"
     ]
    }
   ],
   "source": [
    "model = RandomForestRegressor()\n",
    "model.fit(X_train, y_train)\n",
    "y_pred=model.predict(X_test)\n",
    "print(\"Mean Absolute Error on Training Set: \",mean_absolute_error(y_train,model.predict(X_train)))\n",
    "print(\"Mean Absolute Error on Testing Set: \",mean_absolute_error(y_test,y_pred))\n",
    "print(\"R-Squared Score on Training Set: \",r2_score(y_train,model.predict(X_train)))\n",
    "print(\"R-Squared Score on Testing Set: \",r2_score(y_test,y_pred))"
   ]
  },
  {
   "attachments": {},
   "cell_type": "markdown",
   "id": "81a1f3de",
   "metadata": {},
   "source": [
    "## Classification to predict popularity level"
   ]
  },
  {
   "attachments": {},
   "cell_type": "markdown",
   "id": "8ab7a26d",
   "metadata": {},
   "source": [
    "### Train Test Split"
   ]
  },
  {
   "cell_type": "code",
   "execution_count": 165,
   "id": "2c6c29fb",
   "metadata": {},
   "outputs": [
    {
     "name": "stdout",
     "output_type": "stream",
     "text": [
      "X_train:  (79388, 9)\n",
      "X_test:  (19848, 9)\n",
      "y_train:  (79388,)\n",
      "y_test:  (19848,)\n"
     ]
    }
   ],
   "source": [
    "X=data.drop('label',axis=1)\n",
    "X=X.drop('views',axis=1)\n",
    "y=data.label\n",
    "X_train,X_test,y_train,y_test = train_test_split(X,y,test_size = 0.2, random_state = 0)\n",
    "print(\"X_train: \",X_train.shape)\n",
    "print(\"X_test: \",X_test.shape)\n",
    "print(\"y_train: \",y_train.shape)\n",
    "print(\"y_test: \",y_test.shape)"
   ]
  },
  {
   "attachments": {},
   "cell_type": "markdown",
   "id": "eb040979",
   "metadata": {},
   "source": [
    "### Prediction using Logistic Regression and Random Forest Classifier"
   ]
  },
  {
   "cell_type": "code",
   "execution_count": 166,
   "id": "c3ae2c9c",
   "metadata": {},
   "outputs": [
    {
     "name": "stdout",
     "output_type": "stream",
     "text": [
      "0.5582426440951229\n"
     ]
    }
   ],
   "source": [
    "model=LogisticRegression(solver='lbfgs', max_iter=1000)\n",
    "model.fit(X_train,y_train)\n",
    "y_pred=model.predict(X_test)\n",
    "score = accuracy_score(y_test,y_pred)\n",
    "print(score)"
   ]
  },
  {
   "cell_type": "code",
   "execution_count": 167,
   "id": "02cd0065",
   "metadata": {},
   "outputs": [
    {
     "name": "stdout",
     "output_type": "stream",
     "text": [
      "0.8621019750100766\n"
     ]
    }
   ],
   "source": [
    "model = RandomForestClassifier()\n",
    "model.fit(X_train, y_train)\n",
    "y_pred=model.predict(X_test)\n",
    "score = accuracy_score(y_test,y_pred)\n",
    "print(score)\n"
   ]
  }
 ],
 "metadata": {
  "kernelspec": {
   "display_name": "env",
   "language": "python",
   "name": "python3"
  },
  "language_info": {
   "codemirror_mode": {
    "name": "ipython",
    "version": 3
   },
   "file_extension": ".py",
   "mimetype": "text/x-python",
   "name": "python",
   "nbconvert_exporter": "python",
   "pygments_lexer": "ipython3",
   "version": "3.9.0 (v3.9.0:9cf6752276, Oct  5 2020, 11:29:23) \n[Clang 6.0 (clang-600.0.57)]"
  },
  "papermill": {
   "default_parameters": {},
   "duration": 37.775558,
   "end_time": "2021-05-28T08:19:09.723623",
   "environment_variables": {},
   "exception": null,
   "input_path": "__notebook__.ipynb",
   "output_path": "__notebook__.ipynb",
   "parameters": {},
   "start_time": "2021-05-28T08:18:31.948065",
   "version": "2.3.2"
  },
  "vscode": {
   "interpreter": {
    "hash": "75ba7ab5fc18fd37023427ba3a4cf8569a66f1f471213c38364e4d9900305faa"
   }
  }
 },
 "nbformat": 4,
 "nbformat_minor": 5
}
